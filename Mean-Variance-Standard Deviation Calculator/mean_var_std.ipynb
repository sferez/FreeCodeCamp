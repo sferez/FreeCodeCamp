{
 "cells": [
  {
   "cell_type": "code",
   "execution_count": 1,
   "id": "ee53f297",
   "metadata": {},
   "outputs": [],
   "source": [
    "import numpy as np\n",
    "\n",
    "def calculate(list):\n",
    "\n",
    "  if len(list)<9:\n",
    "    raise ValueError(\"List must contain nine numbers.\")\n",
    "  \n",
    "  data=np.array(list).reshape((3,3))\n",
    "  \n",
    "  calculations={}\n",
    "\n",
    "  calculations['mean']=[data.mean(axis=0).tolist(),data.mean(axis=1).tolist(),data.mean()]\n",
    "  print(calculations)\n",
    "    \n",
    "  calculations['variance']=[data.var(axis=0).tolist(),data.var(axis=1).tolist(),data.var()]\n",
    "\n",
    "  calculations['standard deviation']=[data.std(axis=0).tolist(),data.std(axis=1).tolist(),data.std()]\n",
    "    \n",
    "  calculations['max']=[data.max(axis=0).tolist(),data.max(axis=1).tolist(),data.max()]\n",
    "  \n",
    "  calculations['min']=[data.min(axis=0).tolist(),data.min(axis=1).tolist(),data.min()]\n",
    "\n",
    "  calculations['sum']=[data.sum(axis=0).tolist(),data.sum(axis=1).tolist(),data.sum()]\n",
    "    \n",
    "  return calculations"
   ]
  },
  {
   "cell_type": "code",
   "execution_count": 3,
   "id": "d147f753",
   "metadata": {},
   "outputs": [
    {
     "name": "stdout",
     "output_type": "stream",
     "text": [
      "{'mean': [[3.6666666666666665, 5.0, 3.0], [3.3333333333333335, 4.0, 4.333333333333333], 3.888888888888889]}\n"
     ]
    },
    {
     "data": {
      "text/plain": [
       "{'mean': [[3.6666666666666665, 5.0, 3.0],\n",
       "  [3.3333333333333335, 4.0, 4.333333333333333],\n",
       "  3.888888888888889],\n",
       " 'variance': [[9.555555555555557, 0.6666666666666666, 8.666666666666666],\n",
       "  [3.555555555555556, 10.666666666666666, 6.222222222222221],\n",
       "  6.987654320987654],\n",
       " 'standard deviation': [[3.091206165165235,\n",
       "   0.816496580927726,\n",
       "   2.943920288775949],\n",
       "  [1.8856180831641267, 3.265986323710904, 2.494438257849294],\n",
       "  2.6434171674156266],\n",
       " 'max': [[8, 6, 7], [6, 8, 7], 8],\n",
       " 'min': [[1, 4, 0], [2, 0, 1], 0],\n",
       " 'sum': [[11, 15, 9], [10, 12, 13], 35]}"
      ]
     },
     "execution_count": 3,
     "metadata": {},
     "output_type": "execute_result"
    }
   ],
   "source": [
    "calculate([2,6,2,8,4,0,1,5,7])"
   ]
  },
  {
   "cell_type": "code",
   "execution_count": null,
   "id": "c1fb4fb1",
   "metadata": {},
   "outputs": [],
   "source": []
  }
 ],
 "metadata": {
  "kernelspec": {
   "display_name": "Python 3 (ipykernel)",
   "language": "python",
   "name": "python3"
  },
  "language_info": {
   "codemirror_mode": {
    "name": "ipython",
    "version": 3
   },
   "file_extension": ".py",
   "mimetype": "text/x-python",
   "name": "python",
   "nbconvert_exporter": "python",
   "pygments_lexer": "ipython3",
   "version": "3.9.13"
  }
 },
 "nbformat": 4,
 "nbformat_minor": 5
}
